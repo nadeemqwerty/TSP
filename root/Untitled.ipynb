{
 "cells": [
  {
   "cell_type": "code",
   "execution_count": 1,
   "metadata": {},
   "outputs": [],
   "source": [
    "city_names = [\"New York\", \"Los Angeles\", \"Chicago\", \"Minneapolis\", \"Denver\", \"Dallas\", \"Seattle\",\n",
    "                \"Boston\", \"San Francisco\", \"St. Louis\", \"Houston\", \"Phoenix\", \"Salt Lake City\"]\n",
    "  # Distance matrix\n",
    "dist_matrix = [\n",
    "    [   0, 2451,  713, 1018, 1631, 1374, 2408,  213, 2571,  875, 1420, 2145, 1972], # New York\n",
    "    [2451,    0, 1745, 1524,  831, 1240,  959, 2596,  403, 1589, 1374,  357,  579], # Los Angeles\n",
    "    [ 713, 1745,    0,  355,  920,  803, 1737,  851, 1858,  262,  940, 1453, 1260], # Chicago\n",
    "    [1018, 1524,  355,    0,  700,  862, 1395, 1123, 1584,  466, 1056, 1280,  987], # Minneapolis\n",
    "    [1631,  831,  920,  700,    0,  663, 1021, 1769,  949,  796,  879,  586,  371], # Denver\n",
    "    [1374, 1240,  803,  862,  663,    0, 1681, 1551, 1765,  547,  225,  887,  999], # Dallas\n",
    "    [2408,  959, 1737, 1395, 1021, 1681,    0, 2493,  678, 1724, 1891, 1114,  701], # Seattle\n",
    "    [ 213, 2596,  851, 1123, 1769, 1551, 2493,    0, 2699, 1038, 1605, 2300, 2099], # Boston\n",
    "    [2571,  403, 1858, 1584,  949, 1765,  678, 2699,    0, 1744, 1645,  653,  600], # San Francisco\n",
    "    [ 875, 1589,  262,  466,  796,  547, 1724, 1038, 1744,    0,  679, 1272, 1162], # St. Louis\n",
    "    [1420, 1374,  940, 1056,  879,  225, 1891, 1605, 1645,  679,    0, 1017, 1200], # Houston\n",
    "    [2145,  357, 1453, 1280,  586,  887, 1114, 2300,  653, 1272, 1017,    0,  504], # Phoenix\n",
    "    [1972,  579, 1260,  987,  371,  999,  701, 2099,  600, 1162,  1200,  504,   0]] # Salt Lake City\n"
   ]
  },
  {
   "cell_type": "code",
   "execution_count": 2,
   "metadata": {},
   "outputs": [
    {
     "ename": "NameError",
     "evalue": "name 'pywrapcp' is not defined",
     "output_type": "error",
     "traceback": [
      "\u001b[0;31m---------------------------------------------------------------------------\u001b[0m",
      "\u001b[0;31mNameError\u001b[0m                                 Traceback (most recent call last)",
      "\u001b[0;32m<ipython-input-2-45b46bc7f9c8>\u001b[0m in \u001b[0;36m<module>\u001b[0;34m()\u001b[0m\n\u001b[1;32m      5\u001b[0m \u001b[0;31m# Create routing model\u001b[0m\u001b[0;34m\u001b[0m\u001b[0;34m\u001b[0m\u001b[0m\n\u001b[1;32m      6\u001b[0m \u001b[0;32mif\u001b[0m \u001b[0mtsp_size\u001b[0m \u001b[0;34m>\u001b[0m \u001b[0;36m0\u001b[0m\u001b[0;34m:\u001b[0m\u001b[0;34m\u001b[0m\u001b[0m\n\u001b[0;32m----> 7\u001b[0;31m   \u001b[0mrouting\u001b[0m \u001b[0;34m=\u001b[0m \u001b[0mpywrapcp\u001b[0m\u001b[0;34m.\u001b[0m\u001b[0mRoutingModel\u001b[0m\u001b[0;34m(\u001b[0m\u001b[0mtsp_size\u001b[0m\u001b[0;34m,\u001b[0m \u001b[0mnum_routes\u001b[0m\u001b[0;34m,\u001b[0m \u001b[0mdepot\u001b[0m\u001b[0;34m)\u001b[0m\u001b[0;34m\u001b[0m\u001b[0m\n\u001b[0m\u001b[1;32m      8\u001b[0m   \u001b[0msearch_parameters\u001b[0m \u001b[0;34m=\u001b[0m \u001b[0mpywrapcp\u001b[0m\u001b[0;34m.\u001b[0m\u001b[0mRoutingModel\u001b[0m\u001b[0;34m.\u001b[0m\u001b[0mDefaultSearchParameters\u001b[0m\u001b[0;34m(\u001b[0m\u001b[0;34m)\u001b[0m\u001b[0;34m\u001b[0m\u001b[0m\n\u001b[1;32m      9\u001b[0m   \u001b[0;31m# Create the distance callback.\u001b[0m\u001b[0;34m\u001b[0m\u001b[0;34m\u001b[0m\u001b[0m\n",
      "\u001b[0;31mNameError\u001b[0m: name 'pywrapcp' is not defined"
     ]
    }
   ],
   "source": [
    "  tsp_size = len(city_names)\n",
    "  num_routes = 1\n",
    "  depot = 0\n",
    "\n",
    "  # Create routing model\n",
    "  if tsp_size > 0:\n",
    "    routing = pywrapcp.RoutingModel(tsp_size, num_routes, depot)\n",
    "    search_parameters = pywrapcp.RoutingModel.DefaultSearchParameters()\n",
    "    # Create the distance callback.\n",
    "    dist_callback = create_distance_callback(dist_matrix)\n",
    "    routing.SetArcCostEvaluatorOfAllVehicles(dist_callback)"
   ]
  },
  {
   "cell_type": "code",
   "execution_count": null,
   "metadata": {},
   "outputs": [],
   "source": []
  }
 ],
 "metadata": {
  "kernelspec": {
   "display_name": "Python 3",
   "language": "python",
   "name": "python3"
  },
  "language_info": {
   "codemirror_mode": {
    "name": "ipython",
    "version": 3
   },
   "file_extension": ".py",
   "mimetype": "text/x-python",
   "name": "python",
   "nbconvert_exporter": "python",
   "pygments_lexer": "ipython3",
   "version": "3.6.6"
  }
 },
 "nbformat": 4,
 "nbformat_minor": 2
}
